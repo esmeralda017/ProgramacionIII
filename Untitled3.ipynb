{
  "nbformat": 4,
  "nbformat_minor": 0,
  "metadata": {
    "colab": {
      "provenance": [],
      "authorship_tag": "ABX9TyNoMEHvPmTkCQBZSZcrR2VB",
      "include_colab_link": true
    },
    "kernelspec": {
      "name": "python3",
      "display_name": "Python 3"
    },
    "language_info": {
      "name": "python"
    }
  },
  "cells": [
    {
      "cell_type": "markdown",
      "metadata": {
        "id": "view-in-github",
        "colab_type": "text"
      },
      "source": [
        "<a href=\"https://colab.research.google.com/github/esmeralda017/ProgramacionIII/blob/main/Untitled3.ipynb\" target=\"_parent\"><img src=\"https://colab.research.google.com/assets/colab-badge.svg\" alt=\"Open In Colab\"/></a>"
      ]
    },
    {
      "cell_type": "code",
      "execution_count": 5,
      "metadata": {
        "colab": {
          "base_uri": "https://localhost:8080/"
        },
        "id": "PHNIM4JPZ_jj",
        "outputId": "c9a14a02-4578-4a34-cba6-934c474be387"
      },
      "outputs": [
        {
          "output_type": "stream",
          "name": "stdout",
          "text": [
            "La suma es:  37\n",
            "La suma de los pares es:  20\n",
            "Suma Pares:  20\n"
          ]
        }
      ],
      "source": [
        "#reduce\n",
        "from functools import reduce\n",
        "\n",
        "numeros = [5,4,9,6,8,2,3]\n",
        "suma = reduce(lambda num, acum: num+acum, numeros)\n",
        "\n",
        "sumaPares = reduce(lambda acum, num: num+acum, filter(lambda num: num%2==0, numeros))\n",
        "sumaPar = reduce(lambda acum, num: acum + num if num%2==0 else acum, numeros,0)\n",
        "\n",
        "print(\"La suma es: \", suma)\n",
        "print(\"La suma de los pares es: \", sumaPares)\n",
        "print(\"Suma Pares: \", sumaPar)"
      ]
    },
    {
      "cell_type": "code",
      "source": [
        "tupla = (1,7,3,4,5)\n",
        "#tupla[0] = 5\n",
        "print(\"tupla :\",tupla,\"primer elemento: \",tupla[0],\"el numero 5 parece \", tupla.count(5))\n",
        "print(\"ultimo elemento: \", tupla[-1])\n",
        "print (\"rango: \", tupla[0:3])"
      ],
      "metadata": {
        "colab": {
          "base_uri": "https://localhost:8080/"
        },
        "id": "ggOm1sHQfF3a",
        "outputId": "cc9ae4a4-c403-49fc-eda8-65d38ff3d061"
      },
      "execution_count": 11,
      "outputs": [
        {
          "output_type": "stream",
          "name": "stdout",
          "text": [
            "tupla : (1, 7, 3, 4, 5) primer elemento:  1 el numero 5 parece  1\n",
            "ultimo elemento:  5\n",
            "rango:  (1, 7, 3)\n"
          ]
        }
      ]
    },
    {
      "cell_type": "code",
      "source": [
        "import datetime\n",
        "fecha = datetime.date.today()\n",
        "\n",
        "semana = (\"Domingo\", \"Lunes\", \"Martes\", \"Miercoles\", \"Jueves\", \"Viernes\", \"Sabado\")\n",
        "meses = (\"\", \"Enero\", \"Febrero\", \"Marzo\", \"Abril\", \"Mayo\", \"Junio\", \"Julio\", \"Agosto\", \"Septiembre\", \"Octubre\", \"Noviembre\", \"Diciembre\")\n",
        "dia = fecha.day\n",
        "mes = fecha.month\n",
        "year = fecha.year\n",
        "diaSemana = semana[fecha.isoweekday()]\n",
        "\n",
        "print(diaSemana, dia, \"del\", meses[mes], \"del\", year)\n",
        "print(fecha, fecha.isoweekday(), diaSemana)\n",
        "print(dia, mes , year)"
      ],
      "metadata": {
        "colab": {
          "base_uri": "https://localhost:8080/"
        },
        "id": "ZVOXIrgziFqw",
        "outputId": "00eefaa5-09e2-4c20-b602-620bd1200e73"
      },
      "execution_count": 15,
      "outputs": [
        {
          "output_type": "stream",
          "name": "stdout",
          "text": [
            "Martes 12 del Agosto del 2025\n",
            "2025-08-12 2 Martes\n",
            "12 8 2025\n"
          ]
        }
      ]
    },
    {
      "cell_type": "code",
      "source": [
        "lista = [1,2,3,4,5,6,7,8,9,10,\"soy un cacahuate\",True,[2,3,567,8,9,[8,4,7,7]]]\n",
        "print (lista)"
      ],
      "metadata": {
        "colab": {
          "base_uri": "https://localhost:8080/"
        },
        "id": "C4pkjddrmU8Y",
        "outputId": "dd5d3f07-7af4-4c21-92d2-c6e914f6a800"
      },
      "execution_count": 18,
      "outputs": [
        {
          "output_type": "stream",
          "name": "stdout",
          "text": [
            "[1, 2, 3, 4, 5, 6, 7, 8, 9, 10, 'soy un cacahuate', True, [2, 3, 567, 8, 9, [8, 4, 7, 7]]]\n"
          ]
        }
      ]
    },
    {
      "cell_type": "code",
      "source": [
        "def CalcularPromedio(nota, notas):\n",
        "\n",
        "    return notas [1]*0.3 + notas\n"
      ],
      "metadata": {
        "id": "4mlhSTMXofor"
      },
      "execution_count": 27,
      "outputs": []
    },
    {
      "cell_type": "code",
      "source": [
        "#Hacer un ejercicio en python que optenga la nota final de progra III del I , haciendo uso de listas funciones\n",
        "from functools import reduce\n",
        "\n",
        "notas = [[\"Lab1\",8], [\"Lab2\",9],[\"parcial\",10]]\n",
        "prom = reduce(CalcularPromedio, notas, 0)\n",
        "print(\"nota final:\", prom)"
      ],
      "metadata": {
        "colab": {
          "base_uri": "https://localhost:8080/",
          "height": 280
        },
        "id": "pIn7JLMMm6QW",
        "outputId": "1675a3ee-6841-4c0e-c376-0367dfdb982f"
      },
      "execution_count": 28,
      "outputs": [
        {
          "output_type": "error",
          "ename": "TypeError",
          "evalue": "unsupported operand type(s) for +: 'float' and 'list'",
          "traceback": [
            "\u001b[0;31m---------------------------------------------------------------------------\u001b[0m",
            "\u001b[0;31mTypeError\u001b[0m                                 Traceback (most recent call last)",
            "\u001b[0;32m/tmp/ipython-input-2653119198.py\u001b[0m in \u001b[0;36m<cell line: 0>\u001b[0;34m()\u001b[0m\n\u001b[1;32m      3\u001b[0m \u001b[0;34m\u001b[0m\u001b[0m\n\u001b[1;32m      4\u001b[0m \u001b[0mnotas\u001b[0m \u001b[0;34m=\u001b[0m \u001b[0;34m[\u001b[0m\u001b[0;34m[\u001b[0m\u001b[0;34m\"Lab1\"\u001b[0m\u001b[0;34m,\u001b[0m\u001b[0;36m8\u001b[0m\u001b[0;34m]\u001b[0m\u001b[0;34m,\u001b[0m \u001b[0;34m[\u001b[0m\u001b[0;34m\"Lab2\"\u001b[0m\u001b[0;34m,\u001b[0m\u001b[0;36m9\u001b[0m\u001b[0;34m]\u001b[0m\u001b[0;34m,\u001b[0m\u001b[0;34m[\u001b[0m\u001b[0;34m\"parcial\"\u001b[0m\u001b[0;34m,\u001b[0m\u001b[0;36m10\u001b[0m\u001b[0;34m]\u001b[0m\u001b[0;34m]\u001b[0m\u001b[0;34m\u001b[0m\u001b[0;34m\u001b[0m\u001b[0m\n\u001b[0;32m----> 5\u001b[0;31m \u001b[0mprom\u001b[0m \u001b[0;34m=\u001b[0m \u001b[0mreduce\u001b[0m\u001b[0;34m(\u001b[0m\u001b[0mCalcularPromedio\u001b[0m\u001b[0;34m,\u001b[0m \u001b[0mnotas\u001b[0m\u001b[0;34m,\u001b[0m \u001b[0;36m0\u001b[0m\u001b[0;34m)\u001b[0m\u001b[0;34m\u001b[0m\u001b[0;34m\u001b[0m\u001b[0m\n\u001b[0m\u001b[1;32m      6\u001b[0m \u001b[0mprint\u001b[0m\u001b[0;34m(\u001b[0m\u001b[0;34m\"nota final:\"\u001b[0m\u001b[0;34m,\u001b[0m \u001b[0mprom\u001b[0m\u001b[0;34m)\u001b[0m\u001b[0;34m\u001b[0m\u001b[0;34m\u001b[0m\u001b[0m\n",
            "\u001b[0;32m/tmp/ipython-input-2342504042.py\u001b[0m in \u001b[0;36mCalcularPromedio\u001b[0;34m(nota, notas)\u001b[0m\n\u001b[1;32m      1\u001b[0m \u001b[0;32mdef\u001b[0m \u001b[0mCalcularPromedio\u001b[0m\u001b[0;34m(\u001b[0m\u001b[0mnota\u001b[0m\u001b[0;34m,\u001b[0m \u001b[0mnotas\u001b[0m\u001b[0;34m)\u001b[0m\u001b[0;34m:\u001b[0m\u001b[0;34m\u001b[0m\u001b[0;34m\u001b[0m\u001b[0m\n\u001b[1;32m      2\u001b[0m \u001b[0;34m\u001b[0m\u001b[0m\n\u001b[0;32m----> 3\u001b[0;31m     \u001b[0;32mreturn\u001b[0m \u001b[0mnotas\u001b[0m \u001b[0;34m[\u001b[0m\u001b[0;36m1\u001b[0m\u001b[0;34m]\u001b[0m\u001b[0;34m*\u001b[0m\u001b[0;36m0.3\u001b[0m \u001b[0;34m+\u001b[0m \u001b[0mnotas\u001b[0m\u001b[0;34m\u001b[0m\u001b[0;34m\u001b[0m\u001b[0m\n\u001b[0m",
            "\u001b[0;31mTypeError\u001b[0m: unsupported operand type(s) for +: 'float' and 'list'"
          ]
        }
      ]
    }
  ]
}