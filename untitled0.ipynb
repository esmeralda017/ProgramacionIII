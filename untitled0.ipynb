{
  "nbformat": 4,
  "nbformat_minor": 0,
  "metadata": {
    "colab": {
      "provenance": [],
      "authorship_tag": "ABX9TyPTpYKqlImq7PjFZjlzckL1",
      "include_colab_link": true
    },
    "kernelspec": {
      "name": "python3",
      "display_name": "Python 3"
    },
    "language_info": {
      "name": "python"
    }
  },
  "cells": [
    {
      "cell_type": "markdown",
      "metadata": {
        "id": "view-in-github",
        "colab_type": "text"
      },
      "source": [
        "<a href=\"https://colab.research.google.com/github/esmeralda017/ProgramacionIII/blob/main/untitled0.ipynb\" target=\"_parent\"><img src=\"https://colab.research.google.com/assets/colab-badge.svg\" alt=\"Open In Colab\"/></a>"
      ]
    },
    {
      "cell_type": "code",
      "source": [
        "# entero\n",
        "num1 = 6\n",
        "print(num1, \"Esto es un número entero\")\n",
        "print(str(num1) + \" Esto es un entero\")\n",
        "\n",
        "# decimal\n",
        "num2 = 7.5\n",
        "print(num2, \"Esto es un número decimal\")\n",
        "\n",
        "# booleano\n",
        "esMayor = True\n",
        "print(esMayor, \"Esto es un booleano\")\n",
        "\n",
        "#Cadena\n",
        "nombre = \"Olimpia Rivas\"\n",
        "print(nombre, \"Esto es una cadena\")\n",
        "\n",
        "print (nombre,\"Letra inicial\" , nombre [0],\"un valor especifico\", nombre [5],\"Rango\", nombre [0:4],\"Comenzar desde el final\" , nombre [-1])\n",
        "print( nombre [5:len(nombre)],nombre[:4])\n",
        "print(type(nombre))\n",
        "\n",
        "#FECHAS\n",
        "from datetime import datetime, date, time\n",
        "\n",
        "fecha = datetime.now()\n",
        "print(fecha, fecha.date(), fecha.time())\n",
        "print(type(fecha))\n",
        "\n",
        "fechaPersonalizada = date(2025, 8, 1)\n",
        "print(fechaPersonalizada)\n",
        "\n",
        "fecha = \"2025-08-08\"\n",
        "fecha = datetime.strptime(fecha, \"%Y-%m-%d\")\n",
        "print(fecha)\n",
        "print(fecha.strftime(\"%A %d %B %Y\"), \"regresamos a clases\")\n",
        "\n",
        "fechaNac = input(\"Dime tu fecha de nacimiento d-m-y: \")\n",
        "fechaNac = datetime.strptime(fechaNac, \"%Y-%m-%d\")\n",
        "print(fechaNac)\n",
        "\n"
      ],
      "metadata": {
        "colab": {
          "base_uri": "https://localhost:8080/"
        },
        "id": "76DDlUbIOLIM",
        "outputId": "3e6d0c3c-6274-49fa-8cdf-bbb41e45a1b3"
      },
      "execution_count": null,
      "outputs": [
        {
          "output_type": "stream",
          "name": "stdout",
          "text": [
            "6 Esto es un número entero\n",
            "6 Esto es un entero\n",
            "7.5 Esto es un número decimal\n",
            "True Esto es un booleano\n",
            "Olimpia Rivas Esto es una cadena\n",
            "Olimpia Rivas Letra inicial O un valor especifico i Rango Olim Comenzar desde el final s\n",
            "ia Rivas Olim\n",
            "<class 'str'>\n",
            "2025-07-28 14:03:08.541432 2025-07-28 14:03:08.541432\n",
            "<class 'datetime.datetime'>\n",
            "2025-08-01\n",
            "2025-08-08 00:00:00\n",
            "Friday 08 August 2025 regresamos a clases\n"
          ]
        }
      ]
    }
  ]
}