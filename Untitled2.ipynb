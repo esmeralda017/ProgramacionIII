{
  "nbformat": 4,
  "nbformat_minor": 0,
  "metadata": {
    "colab": {
      "provenance": [],
      "authorship_tag": "ABX9TyP4Yu+rHOddPnUVizwnCb9V",
      "include_colab_link": true
    },
    "kernelspec": {
      "name": "python3",
      "display_name": "Python 3"
    },
    "language_info": {
      "name": "python"
    }
  },
  "cells": [
    {
      "cell_type": "markdown",
      "metadata": {
        "id": "view-in-github",
        "colab_type": "text"
      },
      "source": [
        "<a href=\"https://colab.research.google.com/github/esmeralda017/ProgramacionIII/blob/main/Untitled2.ipynb\" target=\"_parent\"><img src=\"https://colab.research.google.com/assets/colab-badge.svg\" alt=\"Open In Colab\"/></a>"
      ]
    },
    {
      "cell_type": "code",
      "execution_count": null,
      "metadata": {
        "id": "LtxhDu8wRAwZ"
      },
      "outputs": [],
      "source": [
        "def suma(a, b):\n",
        "    return a + b"
      ]
    },
    {
      "cell_type": "code",
      "source": [
        "a = float(input(\"Num1: \"))\n",
        "b = float(input(\"Num2: \"))\n",
        "resultado = suma(a, b)\n",
        "print(\"La suma es:\", resultado)"
      ],
      "metadata": {
        "id": "lbJAuk3YRHgf"
      },
      "execution_count": null,
      "outputs": []
    },
    {
      "cell_type": "code",
      "source": [
        "a = float(input(\"Num1: \"))\n",
        "b = float(input(\"Num2: \"))\n",
        "print(\"La suma de\", a, \"más\", b, \"es igual a\", (lambda x, y: x + y)(a, b))"
      ],
      "metadata": {
        "id": "0SWeKy-ERLfK"
      },
      "execution_count": null,
      "outputs": []
    },
    {
      "cell_type": "code",
      "source": [
        "entrada = input(\"Introduce las notas separadas por comas (ej. 5,7.5,8,4,6): \")"
      ],
      "metadata": {
        "colab": {
          "base_uri": "https://localhost:8080/"
        },
        "id": "5G1RVwcCRPm-",
        "outputId": "96c710df-6322-482a-b90a-5c829f6ef71a"
      },
      "execution_count": 1,
      "outputs": [
        {
          "name": "stdout",
          "output_type": "stream",
          "text": [
            "Introduce las notas separadas por comas (ej. 5,7.5,8,4,6): 4\n"
          ]
        }
      ]
    },
    {
      "cell_type": "code",
      "source": [
        "entrada = input(\"Introduce las notas separadas por comas (ej. 5,7.5,8,4,6): \")\n",
        "notas = list(map(float, entrada.split(\",\")))\n",
        "aprobados = list(filter(lambda nota: nota > 6, notas))\n",
        "reprobados = list(filter(lambda nota: nota <= 6, notas))\n",
        "\n",
        "print(f\"\\nTotal de notas ingresadas: {len(notas)}\")\n",
        "print(f\"Aprobados (<=6): {len(aprobados)} -> {aprobados}\")\n",
        "print(f\"Reprobados (>6): {len(reprobados)} -> {reprobados}\")"
      ],
      "metadata": {
        "colab": {
          "base_uri": "https://localhost:8080/"
        },
        "id": "JsjPSh8DdPQs",
        "outputId": "102d025a-d443-47df-bf0a-34a19a546437"
      },
      "execution_count": 6,
      "outputs": [
        {
          "output_type": "stream",
          "name": "stdout",
          "text": [
            "Introduce las notas separadas por comas (ej. 5,7.5,8,4,6): 2,5,9\n",
            "\n",
            "Total de notas ingresadas: 3\n",
            "Aprobados (<=6): 1 -> [9.0]\n",
            "Reprobados (>6): 2 -> [2.0, 5.0]\n"
          ]
        }
      ]
    },
    {
      "cell_type": "code",
      "source": [
        "#reduce\n",
        "from functools import reduce\n",
        "\n",
        "numeros = [5, 4, 9, 6, 8, 2, 3]\n",
        "suma = reduce(lambda num, acum: num + acum, numeros)\n",
        "\n",
        "sumaPares = reduce(lambda num, acum: num + acum, filter(lambda num: num % 2 == 0, numeros))\n",
        "sumaPar = reduce(lambda num, acum: acum + (num if num % 2 == 0 else 0), numeros)#pendiente\n",
        "\n",
        "print(\"La suma es: \", suma)\n",
        "print(\"La suma de los pares es: \", sumaPares)\n",
        "print(\"Suma Pares: \", sumaPar)\n"
      ],
      "metadata": {
        "colab": {
          "base_uri": "https://localhost:8080/"
        },
        "id": "myCxawJ8fZUb",
        "outputId": "b1e8f69f-3445-42ee-ee91-a093dfa0cddf"
      },
      "execution_count": 8,
      "outputs": [
        {
          "output_type": "stream",
          "name": "stdout",
          "text": [
            "la suma  es : 37\n"
          ]
        }
      ]
    }
  ]
}