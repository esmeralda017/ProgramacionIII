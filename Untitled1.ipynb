{
  "nbformat": 4,
  "nbformat_minor": 0,
  "metadata": {
    "colab": {
      "provenance": [],
      "authorship_tag": "ABX9TyNOKxmSFSFbo4jSWY0BE1M4",
      "include_colab_link": true
    },
    "kernelspec": {
      "name": "python3",
      "display_name": "Python 3"
    },
    "language_info": {
      "name": "python"
    }
  },
  "cells": [
    {
      "cell_type": "markdown",
      "metadata": {
        "id": "view-in-github",
        "colab_type": "text"
      },
      "source": [
        "<a href=\"https://colab.research.google.com/github/esmeralda017/ProgramacionIII/blob/main/Untitled1.ipynb\" target=\"_parent\"><img src=\"https://colab.research.google.com/assets/colab-badge.svg\" alt=\"Open In Colab\"/></a>"
      ]
    },
    {
      "cell_type": "code",
      "execution_count": null,
      "metadata": {
        "colab": {
          "base_uri": "https://localhost:8080/"
        },
        "id": "CrM_jcYEJnNQ",
        "outputId": "77f4fe2b-9a14-4a31-e361-11b38347c552"
      },
      "outputs": [
        {
          "output_type": "stream",
          "name": "stdout",
          "text": [
            "Selecciona una operación:\n",
            "1. Suma\n",
            "2. Resta\n",
            "3. Multiplicación\n",
            "4. División\n",
            "5. Mitad de un número\n",
            "Opción (1-5): 5\n",
            "Ingresa un número: 1\n",
            "Resultado: 0.5\n"
          ]
        }
      ],
      "source": [
        "def suma(num1, num2):\n",
        "    return num1 + num2\n",
        "\n",
        "def resta(num1, num2):\n",
        "    return num1 - num2\n",
        "\n",
        "def multiplicar(num1, num2):\n",
        "    return num1 * num2\n",
        "\n",
        "def dividir(num1, num2):\n",
        "    if num2 != 0:\n",
        "        return num1 / num2\n",
        "    else:\n",
        "        return \"No se puede dividir entre cero\"\n",
        "\n",
        "def mitad(num):\n",
        "    return num / 2\n",
        "\n",
        "# Menú de operaciones\n",
        "print(\"Selecciona una operación:\")\n",
        "print(\"1. Suma\")\n",
        "print(\"2. Resta\")\n",
        "print(\"3. Multiplicación\")\n",
        "print(\"4. División\")\n",
        "print(\"5. Mitad de un número\")\n",
        "\n",
        "opcion = input(\"Opción (1-5): \")\n",
        "\n",
        "# Operaciones que requieren dos números\n",
        "if opcion in ['1', '2', '3', '4']:\n",
        "    num1 = float(input(\"Num1: \"))\n",
        "    num2 = float(input(\"Num2: \"))\n",
        "\n",
        "    if opcion == '1':\n",
        "        resultado = suma(num1, num2)\n",
        "    elif opcion == '2':\n",
        "        resultado = resta(num1, num2)\n",
        "    elif opcion == '3':\n",
        "        resultado = multiplicar(num1, num2)\n",
        "    elif opcion == '4':\n",
        "        resultado = dividir(num1, num2)\n",
        "\n",
        "# Operación que requiere un solo número\n",
        "elif opcion == '5':\n",
        "    num = float(input(\"Ingresa un número: \"))\n",
        "    resultado = mitad(num)\n",
        "else:\n",
        "    resultado = \"Opción inválida\"\n",
        "\n",
        "print(\"Resultado:\", resultado)\n"
      ]
    },
    {
      "cell_type": "code",
      "source": [
        "def resta(num1, num2):\n",
        "    return num1 - num2\n",
        "#resta\n",
        "\n",
        "num1 = float(input(\"Num1: \"))\n",
        "num2 = float(input(\"Num2: \"))\n",
        "\n",
        "respuesta = resta(num1, num2)\n",
        "\n",
        "print(\"La resta es:\", respuesta)"
      ],
      "metadata": {
        "id": "qpbzQEeITt-1"
      },
      "execution_count": null,
      "outputs": []
    },
    {
      "cell_type": "code",
      "source": [
        "#Hacer un ejercicio en python haciendo uso de funciones de usuario , que convierta grados celcios a farenheit.\n",
        "def celsiusfarenheit(c):\n",
        "    return c * 9/5 + 32"
      ],
      "metadata": {
        "id": "mvk2WH27Ux7X"
      },
      "execution_count": 15,
      "outputs": []
    },
    {
      "cell_type": "code",
      "source": [
        "c = float(input(\" grados Celsius: \"))\n",
        "f = celsiusfarenheit(c)\n",
        "print(\"F:\", f)"
      ],
      "metadata": {
        "colab": {
          "base_uri": "https://localhost:8080/"
        },
        "id": "pxvIpbv-YNgw",
        "outputId": "482c703e-ce5e-4eec-f1ab-f55cd1ac35b5"
      },
      "execution_count": 16,
      "outputs": [
        {
          "output_type": "stream",
          "name": "stdout",
          "text": [
            " grados Celsius: 0.5555555555555556\n",
            "F: 33.0\n"
          ]
        }
      ]
    },
    {
      "cell_type": "code",
      "source": [
        "#Hacer un ejercicio en python haciendo uso de funciones de usuario , que convierta grados farenheit a celciu.\n",
        "def farenheitcelsius(f):\n",
        "    return (f - 32) * 5/9"
      ],
      "metadata": {
        "id": "-m88AE0PZXUQ"
      },
      "execution_count": 9,
      "outputs": []
    },
    {
      "cell_type": "code",
      "source": [
        "c = int(input(\" grados Farenheit: \"))\n",
        "f = farenheitcelsius(c)\n",
        "print(\"C:\", f)\n"
      ],
      "metadata": {
        "colab": {
          "base_uri": "https://localhost:8080/"
        },
        "id": "aunUrp9TZoVY",
        "outputId": "89e7d36a-140c-4bda-afc5-f565eb63cbf8"
      },
      "execution_count": 10,
      "outputs": [
        {
          "output_type": "stream",
          "name": "stdout",
          "text": [
            " grados Farenheit: 33\n",
            "C: 0.5555555555555556\n"
          ]
        }
      ]
    },
    {
      "cell_type": "code",
      "source": [
        "#Hacer un ejercicio en python haciendo uso de funciones de usuario , que convierta grados celcius a kelvin.\n",
        "def celsius_kelvin(c):\n",
        "    return c + 273.15\n",
        "\n",
        "\n",
        "\n",
        "c = float(input(\"Grados Celsius: \"))\n",
        "k = celsius_kelvin(c)\n",
        "print(\"K:\", k)"
      ],
      "metadata": {
        "colab": {
          "base_uri": "https://localhost:8080/"
        },
        "id": "s-2UbTkIbQp1",
        "outputId": "ac080627-5675-43ef-d8b2-db2d87ea8cab"
      },
      "execution_count": 17,
      "outputs": [
        {
          "output_type": "stream",
          "name": "stdout",
          "text": [
            "Grados Celsius: 32\n",
            "K: 305.15\n"
          ]
        }
      ]
    },
    {
      "cell_type": "code",
      "source": [
        "#Hacer un ejercicio en python haciendo uso de funciones de usuario , que calcule el sueldo de un empleado segun el numero de hrs trabajadas y el valor por horas\n",
        "def calcular_sueldo(horas_trabajadas, valor_por_hora):\n",
        "    sueldo = horas_trabajadas * valor_por_hora\n",
        "    return sueldo\n",
        "\n",
        "\n",
        "\n",
        "horas = float(input(\"Ingrese el número de horas trabajadas: \"))\n",
        "valor = float(input(\"Ingrese el valor por hora: \"))\n",
        "\n",
        "sueldo_total = calcular_sueldo(horas, valor)\n",
        "\n",
        "print(f\"El sueldo total del empleado es: ${sueldo_total:.2f}\")"
      ],
      "metadata": {
        "colab": {
          "base_uri": "https://localhost:8080/"
        },
        "id": "_0l7xw3UhaTh",
        "outputId": "2b2d2183-b1e9-4041-8e75-dbf0a9963d52"
      },
      "execution_count": 18,
      "outputs": [
        {
          "output_type": "stream",
          "name": "stdout",
          "text": [
            "Ingrese el número de horas trabajadas: 12\n",
            "Ingrese el valor por hora: 20\n",
            "El sueldo total del empleado es: $240.00\n"
          ]
        }
      ]
    },
    {
      "cell_type": "code",
      "source": [
        "#por 4 semanas osea un mes\n",
        "def calcular_sueldo_mensual(horas_por_semana, valor_por_hora):\n",
        "\n",
        "    semanas_por_mes = 4\n",
        "    sueldo = horas_por_semana * semanas_por_mes * valor_por_hora\n",
        "    return sueldo\n",
        "\n",
        "horas_semanales = float(input(\"Ingrese el número de horas trabajadas por semana: \"))\n",
        "valor = float(input(\"Ingrese el valor por hora: \"))\n",
        "\n",
        "sueldo_total = calcular_sueldo_mensual(horas_semanales, valor)\n",
        "\n",
        "print(f\"El sueldo total mensual del empleado es: ${sueldo_total:.2f}\")\n"
      ],
      "metadata": {
        "id": "tzFO9NGKjkZb"
      },
      "execution_count": null,
      "outputs": []
    },
    {
      "cell_type": "code",
      "source": [
        "#por una semana\n",
        "def calcular_sueldo(horas_trabajadas, valor_por_hora):\n",
        "    sueldo = horas_trabajadas * valor_por_hora\n",
        "    return sueldo\n",
        "\n",
        "horas = float(input(\"Ingrese el número de horas trabajadas en la semana: \"))\n",
        "valor = float(input(\"Ingrese el valor por hora: \"))\n",
        "\n",
        "sueldo_total = calcular_sueldo(horas, valor)\n",
        "\n",
        "print(f\"El sueldo total del empleado en la semana es: ${sueldo_total:.2f}\")\n"
      ],
      "metadata": {
        "id": "OnVJAmYLjtDt"
      },
      "execution_count": null,
      "outputs": []
    },
    {
      "cell_type": "code",
      "source": [
        "#Hacer un ejercicio en python haciendo uso de funciones de usuario , que permita elevar un numero a un exponte.\n",
        "\n",
        "def exponenciacion(base, exponente):\n",
        "    resultado = base ** exponente\n",
        "    return resultado\n",
        "\n",
        "base = float(input(\"Ingrese la base: \"))\n",
        "exponente = float(input(\"Ingrese el exponente: \"))\n",
        "\n",
        "resultado = exponenciacion(base, exponente)\n",
        "\n",
        "print(\"El resultado de la exponenciación es:\", resultado)"
      ],
      "metadata": {
        "colab": {
          "base_uri": "https://localhost:8080/"
        },
        "id": "W75DWCRDj8sc",
        "outputId": "ebb73063-d183-440f-c1ff-e3ba9f5d68f3"
      },
      "execution_count": 20,
      "outputs": [
        {
          "output_type": "stream",
          "name": "stdout",
          "text": [
            "Ingrese la base: 8\n",
            "Ingrese el exponente: 3\n",
            "El resultado de la exponenciación es: 512.0\n"
          ]
        }
      ]
    }
  ]
}