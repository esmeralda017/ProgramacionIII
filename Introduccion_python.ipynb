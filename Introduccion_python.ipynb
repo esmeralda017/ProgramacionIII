{
  "nbformat": 4,
  "nbformat_minor": 0,
  "metadata": {
    "colab": {
      "provenance": [],
      "authorship_tag": "ABX9TyPUPCbkcEB9ZnVb6spGMAgU",
      "include_colab_link": true
    },
    "kernelspec": {
      "name": "python3",
      "display_name": "Python 3"
    },
    "language_info": {
      "name": "python"
    }
  },
  "cells": [
    {
      "cell_type": "markdown",
      "metadata": {
        "id": "view-in-github",
        "colab_type": "text"
      },
      "source": [
        "<a href=\"https://colab.research.google.com/github/esmeralda017/ProgramacionIII/blob/main/Introduccion_python.ipynb\" target=\"_parent\"><img src=\"https://colab.research.google.com/assets/colab-badge.svg\" alt=\"Open In Colab\"/></a>"
      ]
    },
    {
      "cell_type": "code",
      "execution_count": 2,
      "metadata": {
        "id": "mECv-E7jb9lA",
        "colab": {
          "base_uri": "https://localhost:8080/"
        },
        "outputId": "bfdbfa6a-7089-4840-cb37-55df277cd753"
      },
      "outputs": [
        {
          "output_type": "stream",
          "name": "stdout",
          "text": [
            "hola mundo\n",
            "Bienvenidos chicos a programacion computacional III\n"
          ]
        }
      ],
      "source": [
        "print(\"hola mundo\")\n",
        "print(\"Bienvenidos chicos a programacion computacional III\")"
      ]
    },
    {
      "cell_type": "code",
      "source": [
        "nombre = \"OLimpia Rivas\"\n",
        "edad = 5\n",
        "\n",
        "print (nombre,edad)\n",
        "\n",
        "edad = \"cinco\"\n",
        "print(\"tu edad:\" , edad)"
      ],
      "metadata": {
        "colab": {
          "base_uri": "https://localhost:8080/"
        },
        "id": "WspqbYR2dQBu",
        "outputId": "eb036834-54ad-49c4-d881-09df72eb7443"
      },
      "execution_count": 7,
      "outputs": [
        {
          "output_type": "stream",
          "name": "stdout",
          "text": [
            "OLimpia Rivas 5\n",
            "tu edad: cinco\n"
          ]
        }
      ]
    },
    {
      "cell_type": "code",
      "source": [
        "num1 = 5\n",
        "num2 =8.9\n",
        "suma = num1 + num2\n",
        "print (\"la suma es : \" , suma)"
      ],
      "metadata": {
        "colab": {
          "base_uri": "https://localhost:8080/"
        },
        "id": "51OU9nMdeHPn",
        "outputId": "94a83757-31d5-4809-9a9d-47adcd0c0e58"
      },
      "execution_count": 9,
      "outputs": [
        {
          "output_type": "stream",
          "name": "stdout",
          "text": [
            "la suma es :  13.9\n"
          ]
        }
      ]
    },
    {
      "cell_type": "code",
      "source": [
        "num1 =float(input(\"num1: \"))\n",
        "num2 =float(input(\"num2: \"))\n",
        "suma = num1 + num2\n",
        "print(\"la suma es: \" , suma)"
      ],
      "metadata": {
        "id": "mKpCrhlYfZfw",
        "outputId": "c0ffec25-5d3e-4642-8d6c-61aa1df25764",
        "colab": {
          "base_uri": "https://localhost:8080/"
        }
      },
      "execution_count": 14,
      "outputs": [
        {
          "output_type": "stream",
          "name": "stdout",
          "text": [
            "num1: 5\n",
            "num2: 5\n",
            "la suma es:  10.0\n"
          ]
        }
      ]
    },
    {
      "cell_type": "code",
      "source": [
        "num1 =float(input(\"num1: \"))\n",
        "num2 =float(input(\"num2: \"))\n",
        "resta = num1 - num2\n",
        "print(\"la resta es: \" , resta)"
      ],
      "metadata": {
        "id": "yduz53MSf-KC",
        "outputId": "936b6b19-4441-4c01-adef-c5e9f2e4894c",
        "colab": {
          "base_uri": "https://localhost:8080/"
        }
      },
      "execution_count": 15,
      "outputs": [
        {
          "output_type": "stream",
          "name": "stdout",
          "text": [
            "num1: 5\n",
            "num2: 3\n",
            "la resta es:  2.0\n"
          ]
        }
      ]
    }
  ]
}